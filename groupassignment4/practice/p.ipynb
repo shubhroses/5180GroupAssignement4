{
 "cells": [
  {
   "cell_type": "code",
   "execution_count": 244,
   "metadata": {},
   "outputs": [],
   "source": [
    "lines = None\n",
    "with open('../pagerank/test1.txt') as f:\n",
    "    lines = f.readlines()"
   ]
  },
  {
   "cell_type": "code",
   "execution_count": 245,
   "metadata": {},
   "outputs": [],
   "source": [
    "lines = [line.strip() for line in lines]\n",
    "numPages = int(lines[0])\n",
    "numLinks = int(lines[1])"
   ]
  },
  {
   "cell_type": "code",
   "execution_count": 246,
   "metadata": {},
   "outputs": [],
   "source": [
    "edges = [[0] * numPages for _ in range(numPages)]"
   ]
  },
  {
   "cell_type": "code",
   "execution_count": 247,
   "metadata": {},
   "outputs": [
    {
     "name": "stdout",
     "output_type": "stream",
     "text": [
      "[[0, 0, 0, 0, 0], [0, 0, 0, 0, 0], [0, 0, 0, 0, 0], [0, 0, 0, 0, 0], [0, 0, 0, 0, 0]]\n"
     ]
    }
   ],
   "source": [
    "print(edges)"
   ]
  },
  {
   "cell_type": "code",
   "execution_count": 248,
   "metadata": {},
   "outputs": [
    {
     "name": "stdout",
     "output_type": "stream",
     "text": [
      "0 2\n",
      "0 4\n",
      "0 3\n",
      "4 1\n",
      "1 2\n",
      "1 3\n",
      "2 0\n",
      "3 0\n",
      "3 2\n"
     ]
    }
   ],
   "source": [
    "for line in lines[2:]:\n",
    "    line = [int(l) for l in line.split()]\n",
    "    x, y = line\n",
    "    print(x, y)\n",
    "    edges[x][y] = 1"
   ]
  },
  {
   "cell_type": "code",
   "execution_count": 249,
   "metadata": {},
   "outputs": [
    {
     "name": "stdout",
     "output_type": "stream",
     "text": [
      "[0, 0, 1, 1, 1]\n",
      "[0, 0, 1, 1, 0]\n",
      "[1, 0, 0, 0, 0]\n",
      "[1, 0, 1, 0, 0]\n",
      "[0, 1, 0, 0, 0]\n"
     ]
    }
   ],
   "source": [
    "for row in edges:\n",
    "    print(row)"
   ]
  },
  {
   "cell_type": "markdown",
   "metadata": {},
   "source": [
    "# TEST"
   ]
  },
  {
   "cell_type": "code",
   "execution_count": 250,
   "metadata": {},
   "outputs": [],
   "source": [
    "import numpy as np"
   ]
  },
  {
   "cell_type": "code",
   "execution_count": 251,
   "metadata": {},
   "outputs": [
    {
     "data": {
      "text/plain": [
       "matrix([[0.3],\n",
       "        [0.8]])"
      ]
     },
     "execution_count": 251,
     "metadata": {},
     "output_type": "execute_result"
    }
   ],
   "source": [
    "p = [[0.7, 0.3], [0.2, 0.8]]\n",
    "x = [[0], [1]]\n",
    "\n",
    "p = np.matrix(p)\n",
    "x = np.array(x)\n",
    "\n",
    "np.dot(p,x)"
   ]
  },
  {
   "cell_type": "code",
   "execution_count": 252,
   "metadata": {},
   "outputs": [
    {
     "ename": "ValueError",
     "evalue": "shapes (7,) and (2,2) not aligned: 7 (dim 0) != 2 (dim 0)",
     "output_type": "error",
     "traceback": [
      "\u001b[0;31m---------------------------------------------------------------------------\u001b[0m",
      "\u001b[0;31mValueError\u001b[0m                                Traceback (most recent call last)",
      "Cell \u001b[0;32mIn [252], line 19\u001b[0m\n\u001b[1;32m     15\u001b[0m test \u001b[39m=\u001b[39m test \u001b[39m+\u001b[39m (alpha \u001b[39m/\u001b[39m n)\n\u001b[1;32m     17\u001b[0m x \u001b[39m=\u001b[39m np\u001b[39m.\u001b[39marray([\u001b[39m1\u001b[39m\u001b[39m/\u001b[39mn \u001b[39mfor\u001b[39;00m _ \u001b[39min\u001b[39;00m \u001b[39mrange\u001b[39m(n)])\n\u001b[0;32m---> 19\u001b[0m \u001b[39mprint\u001b[39m(x\u001b[39m.\u001b[39;49mdot(p))\n",
      "\u001b[0;31mValueError\u001b[0m: shapes (7,) and (2,2) not aligned: 7 (dim 0) != 2 (dim 0)"
     ]
    }
   ],
   "source": [
    "test = [[0, 0, 1, 0, 0, 0, 0], [0, 1, 1, 0, 0, 0, 0], [1, 0, 1, 1, 0, 0, 0], [0, 0, 0, 1, 1, 0, 0], [0, 0, 0, 0, 0, 0, 1], [0, 0, 0, 0, 0, 1, 1], [0, 0, 0, 1, 1, 0, 1]]\n",
    "alpha = 0.14\n",
    "n = len(test)\n",
    "for r in range(len(test)):\n",
    "    numOfOnes = sum(test[r])\n",
    "    if numOfOnes == 0:\n",
    "        for c in range(len(test[0])):\n",
    "            test[r][c] = 1 / n\n",
    "    else:\n",
    "        for c in range(len(test[0])):\n",
    "            if test[r][c] == 1:\n",
    "                test[r][c] = 1/numOfOnes\n",
    "test = np.matrix(test)\n",
    "test = test*(1-alpha)\n",
    "test = test + (alpha / n)\n",
    "\n",
    "x = np.array([1/n for _ in range(n)])\n",
    "\n",
    "print(x.dot(p))\n"
   ]
  },
  {
   "cell_type": "code",
   "execution_count": 253,
   "metadata": {},
   "outputs": [],
   "source": [
    "def getAdjacencyMatrix(input_file):\n",
    "    lines = None\n",
    "    with open('../pagerank/test1.txt') as f:\n",
    "        lines = f.readlines()\n",
    "    \n",
    "    lines = [line.strip() for line in lines]\n",
    "    numPages = int(lines[0])\n",
    "    numLinks = int(lines[1])\n",
    "\n",
    "    edges = [[0] * numPages for _ in range(numPages)]\n",
    "\n",
    "    for line in lines[2:]:\n",
    "        line = [int(l) for l in line.split()]\n",
    "        x, y = line\n",
    "        edges[x][y] = 1\n",
    "    return edges"
   ]
  },
  {
   "cell_type": "code",
   "execution_count": 254,
   "metadata": {},
   "outputs": [],
   "source": [
    "def getTransitionMatrixWithTeleporting(input_file, alpha):\n",
    "    test = getAdjacencyMatrix(input_file)\n",
    "    n = len(test)\n",
    "    for r in range(len(test)):\n",
    "        numOfOnes = sum(test[r])\n",
    "        if numOfOnes == 0:\n",
    "            for c in range(len(test[0])):\n",
    "                test[r][c] = 1 / n\n",
    "        else:\n",
    "            for c in range(len(test[0])):\n",
    "                if test[r][c] == 1:\n",
    "                    test[r][c] = 1/numOfOnes\n",
    "    test = np.matrix(test)\n",
    "    test = test*(1-alpha)\n",
    "    test = test + (alpha / n)\n",
    "    return test"
   ]
  },
  {
   "cell_type": "code",
   "execution_count": 255,
   "metadata": {},
   "outputs": [],
   "source": [
    "def getInitialVector(n):\n",
    "    x = np.array([1/n for _ in range(n)])\n",
    "    return x"
   ]
  },
  {
   "cell_type": "code",
   "execution_count": 256,
   "metadata": {},
   "outputs": [
    {
     "data": {
      "text/plain": [
       "array([0.2, 0.2, 0.2, 0.2, 0.2])"
      ]
     },
     "execution_count": 256,
     "metadata": {},
     "output_type": "execute_result"
    }
   ],
   "source": [
    "transitionMatrix = getTransitionMatrixWithTeleporting('../pagerank/test1.txt', 0.14)\n",
    "initialVector = getInitialVector(len(transitionMatrix))\n",
    "initialVector"
   ]
  },
  {
   "cell_type": "code",
   "execution_count": 257,
   "metadata": {},
   "outputs": [],
   "source": [
    "def powerIteration(x, p):\n",
    "    return x.dot(p)"
   ]
  },
  {
   "cell_type": "code",
   "execution_count": 269,
   "metadata": {},
   "outputs": [
    {
     "name": "stdout",
     "output_type": "stream",
     "text": [
      "[[0.32060012 0.13111862 0.25208952 0.17628637 0.11990537]]\n"
     ]
    }
   ],
   "source": [
    "initialVector = getInitialVector(len(transitionMatrix))\n",
    "for _ in range(100):\n",
    "    initialVector = powerIteration(initialVector, transitionMatrix)\n",
    "print(initialVector)"
   ]
  },
  {
   "cell_type": "code",
   "execution_count": 276,
   "metadata": {},
   "outputs": [
    {
     "name": "stdout",
     "output_type": "stream",
     "text": [
      "Page id: 0, Page rank: 0.3206001241423446\n",
      "Page id: 2, Page rank: 0.25208951531723867\n",
      "Page id: 3, Page rank: 0.17628637434771935\n",
      "Page id: 1, Page rank: 0.13111861727189275\n",
      "Page id: 4, Page rank: 0.11990536892080549\n"
     ]
    }
   ],
   "source": [
    "pageRank = initialVector.tolist()[0]\n",
    "pageRankToId = [(value, i) for i, value in enumerate(pageRank)]\n",
    "pageRankToId = sorted(pageRankToId, reverse = True)\n",
    "\n",
    "for value, id in pageRankToId:\n",
    "    print(f\"Page id: {id}, Page rank: {value}\")"
   ]
  },
  {
   "cell_type": "code",
   "execution_count": 198,
   "metadata": {},
   "outputs": [
    {
     "name": "stdout",
     "output_type": "stream",
     "text": [
      "[0.02, 0.02, 0.88, 0.02, 0.02, 0.02, 0.02]\n",
      "[0.02, 0.45, 0.45, 0.02, 0.02, 0.02, 0.02]\n",
      "[0.3066666666666667, 0.02, 0.3066666666666667, 0.3066666666666667, 0.02, 0.02, 0.02]\n",
      "[0.02, 0.02, 0.02, 0.45, 0.45, 0.02, 0.02]\n",
      "[0.02, 0.02, 0.02, 0.02, 0.02, 0.02, 0.88]\n",
      "[0.02, 0.02, 0.02, 0.02, 0.02, 0.45, 0.45]\n",
      "[0.02, 0.02, 0.02, 0.3066666666666667, 0.3066666666666667, 0.02, 0.3066666666666667]\n",
      "[0.14285714285714285, 0.14285714285714285, 0.14285714285714285, 0.14285714285714285, 0.14285714285714285, 0.14285714285714285, 0.14285714285714285]\n"
     ]
    }
   ],
   "source": [
    "test = [[0, 0, 1, 0, 0, 0, 0], [0, 1, 1, 0, 0, 0, 0], [1, 0, 1, 1, 0, 0, 0], [0, 0, 0, 1, 1, 0, 0], [0, 0, 0, 0, 0, 0, 1], [0, 0, 0, 0, 0, 1, 1], [0, 0, 0, 1, 1, 0, 1]]\n",
    "alpha = 0.14\n",
    "\n",
    "c = len(test[0])\n",
    "perZero = alpha / c\n",
    "for row in range(len(test)):\n",
    "    numOfOnes = sum(test[row])\n",
    "    numOfZeros = c - numOfOnes\n",
    "    for col in range(len(test[0])):\n",
    "        if test[row][col] == 0:\n",
    "            test[row][col] = perZero\n",
    "        else:\n",
    "            test[row][col] = (1 - numOfZeros*perZero)/numOfOnes\n",
    "\n",
    "x = [1/c for _ in range(c)]\n",
    "\n",
    "for row in test:\n",
    "    print(row)\n",
    "print(x)"
   ]
  },
  {
   "cell_type": "code",
   "execution_count": 199,
   "metadata": {},
   "outputs": [],
   "source": [
    "p = np.matrix(test)\n",
    "x = np.array(x)"
   ]
  },
  {
   "cell_type": "code",
   "execution_count": 201,
   "metadata": {},
   "outputs": [
    {
     "name": "stdout",
     "output_type": "stream",
     "text": [
      "[[0.06095238 0.08142857 0.2452381  0.16333333 0.12238095 0.08142857\n",
      "  0.2452381 ]]\n"
     ]
    }
   ],
   "source": [
    "print(x.dot(p))"
   ]
  },
  {
   "cell_type": "code",
   "execution_count": 124,
   "metadata": {},
   "outputs": [
    {
     "name": "stdout",
     "output_type": "stream",
     "text": [
      "[[0.14285714285714285], [0.14285714285714285], [0.14285714285714285], [0.14285714285714285], [0.14285714285714285], [0.14285714285714285], [0.14285714285714285]]\n"
     ]
    }
   ],
   "source": [
    "print(x)"
   ]
  },
  {
   "cell_type": "code",
   "execution_count": 125,
   "metadata": {},
   "outputs": [],
   "source": [
    "import numpy as np"
   ]
  },
  {
   "cell_type": "code",
   "execution_count": 145,
   "metadata": {},
   "outputs": [],
   "source": [
    "p = np.matrix(test)"
   ]
  },
  {
   "cell_type": "code",
   "execution_count": 155,
   "metadata": {},
   "outputs": [
    {
     "data": {
      "text/plain": [
       "matrix([[0.14285714],\n",
       "        [0.14285714],\n",
       "        [0.14285714],\n",
       "        [0.14285714],\n",
       "        [0.14285714],\n",
       "        [0.14285714],\n",
       "        [0.14285714]])"
      ]
     },
     "execution_count": 155,
     "metadata": {},
     "output_type": "execute_result"
    }
   ],
   "source": [
    "vector = np.matrix(x)\n",
    "vector\n"
   ]
  },
  {
   "cell_type": "code",
   "execution_count": 156,
   "metadata": {},
   "outputs": [
    {
     "data": {
      "text/plain": [
       "matrix([[0.14285714],\n",
       "        [0.14285714],\n",
       "        [0.14285714],\n",
       "        [0.14285714],\n",
       "        [0.14285714],\n",
       "        [0.14285714],\n",
       "        [0.14285714]])"
      ]
     },
     "execution_count": 156,
     "metadata": {},
     "output_type": "execute_result"
    }
   ],
   "source": [
    "np.dot(p, vector)"
   ]
  },
  {
   "cell_type": "code",
   "execution_count": 140,
   "metadata": {},
   "outputs": [
    {
     "data": {
      "text/plain": [
       "array([[0.14285714],\n",
       "       [0.14285714],\n",
       "       [0.14285714],\n",
       "       [0.14285714],\n",
       "       [0.14285714],\n",
       "       [0.14285714],\n",
       "       [0.14285714]])"
      ]
     },
     "execution_count": 140,
     "metadata": {},
     "output_type": "execute_result"
    }
   ],
   "source": [
    "np.dot(p, vector)"
   ]
  },
  {
   "cell_type": "code",
   "execution_count": 147,
   "metadata": {},
   "outputs": [
    {
     "name": "stdout",
     "output_type": "stream",
     "text": [
      "[[0.02       0.02       0.88       0.02       0.02       0.02\n",
      "  0.02      ]\n",
      " [0.02       0.45       0.45       0.02       0.02       0.02\n",
      "  0.02      ]\n",
      " [0.30666667 0.02       0.30666667 0.30666667 0.02       0.02\n",
      "  0.02      ]\n",
      " [0.02       0.02       0.02       0.45       0.45       0.02\n",
      "  0.02      ]\n",
      " [0.02       0.02       0.02       0.02       0.02       0.02\n",
      "  0.88      ]\n",
      " [0.02       0.02       0.02       0.02       0.02       0.45\n",
      "  0.45      ]\n",
      " [0.02       0.02       0.02       0.30666667 0.30666667 0.02\n",
      "  0.30666667]]\n"
     ]
    }
   ],
   "source": [
    "print(p)"
   ]
  },
  {
   "cell_type": "code",
   "execution_count": 167,
   "metadata": {},
   "outputs": [
    {
     "data": {
      "text/plain": [
       "matrix([[0.3],\n",
       "        [0.8]])"
      ]
     },
     "execution_count": 167,
     "metadata": {},
     "output_type": "execute_result"
    }
   ],
   "source": []
  }
 ],
 "metadata": {
  "kernelspec": {
   "display_name": "Python 3.10.8 64-bit",
   "language": "python",
   "name": "python3"
  },
  "language_info": {
   "codemirror_mode": {
    "name": "ipython",
    "version": 3
   },
   "file_extension": ".py",
   "mimetype": "text/x-python",
   "name": "python",
   "nbconvert_exporter": "python",
   "pygments_lexer": "ipython3",
   "version": "3.10.8"
  },
  "orig_nbformat": 4,
  "vscode": {
   "interpreter": {
    "hash": "b0fa6594d8f4cbf19f97940f81e996739fb7646882a419484c72d19e05852a7e"
   }
  }
 },
 "nbformat": 4,
 "nbformat_minor": 2
}
