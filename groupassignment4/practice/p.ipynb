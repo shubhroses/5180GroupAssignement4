{
 "cells": [
  {
   "cell_type": "code",
   "execution_count": 52,
   "metadata": {},
   "outputs": [],
   "source": [
    "lines = None\n",
    "with open('../pagerank/test1.txt') as f:\n",
    "    lines = f.readlines()"
   ]
  },
  {
   "cell_type": "code",
   "execution_count": 53,
   "metadata": {},
   "outputs": [],
   "source": [
    "lines = [line.strip() for line in lines]\n",
    "numPages = int(lines[0])\n",
    "numLinks = int(lines[1])"
   ]
  },
  {
   "cell_type": "code",
   "execution_count": 54,
   "metadata": {},
   "outputs": [],
   "source": [
    "edges = [[0] * numPages for _ in range(numPages)]"
   ]
  },
  {
   "cell_type": "code",
   "execution_count": 55,
   "metadata": {},
   "outputs": [
    {
     "name": "stdout",
     "output_type": "stream",
     "text": [
      "[[0, 0, 0, 0, 0], [0, 0, 0, 0, 0], [0, 0, 0, 0, 0], [0, 0, 0, 0, 0], [0, 0, 0, 0, 0]]\n"
     ]
    }
   ],
   "source": [
    "print(edges)"
   ]
  },
  {
   "cell_type": "code",
   "execution_count": 56,
   "metadata": {},
   "outputs": [
    {
     "name": "stdout",
     "output_type": "stream",
     "text": [
      "0 2\n",
      "0 4\n",
      "0 3\n",
      "4 1\n",
      "1 2\n",
      "1 3\n",
      "2 0\n",
      "3 0\n",
      "3 2\n"
     ]
    }
   ],
   "source": [
    "for line in lines[2:]:\n",
    "    line = [int(l) for l in line.split()]\n",
    "    x, y = line\n",
    "    print(x, y)\n",
    "    edges[x][y] = 1"
   ]
  },
  {
   "cell_type": "code",
   "execution_count": 58,
   "metadata": {},
   "outputs": [
    {
     "name": "stdout",
     "output_type": "stream",
     "text": [
      "[0, 0, 1, 1, 1]\n",
      "[0, 0, 1, 1, 0]\n",
      "[1, 0, 0, 0, 0]\n",
      "[1, 0, 1, 0, 0]\n",
      "[0, 1, 0, 0, 0]\n"
     ]
    }
   ],
   "source": [
    "for row in edges:\n",
    "    print(row)"
   ]
  },
  {
   "cell_type": "markdown",
   "metadata": {},
   "source": [
    "# TEST"
   ]
  },
  {
   "cell_type": "code",
   "execution_count": 67,
   "metadata": {},
   "outputs": [],
   "source": [
    "test = [[0, 0, 1, 0, 0, 0, 0], [0, 1, 1, 0, 0, 0, 0], [1, 0, 1, 1, 0, 0, 0], [0, 0, 0, 1, 1, 0, 0], [0, 0, 0, 0, 0, 0, 1], [0, 0, 0, 0, 0, 1, 1], [0, 0, 0, 1, 1, 0, 1]]"
   ]
  },
  {
   "cell_type": "code",
   "execution_count": 68,
   "metadata": {},
   "outputs": [],
   "source": [
    "alpha = 0.14"
   ]
  },
  {
   "cell_type": "code",
   "execution_count": 79,
   "metadata": {},
   "outputs": [
    {
     "name": "stdout",
     "output_type": "stream",
     "text": [
      "[0, 0, 1, 0, 0, 0, 0]\n",
      "[0, 1, 1, 0, 0, 0, 0]\n",
      "[1, 0, 1, 1, 0, 0, 0]\n",
      "[0, 0, 0, 1, 1, 0, 0]\n",
      "[0, 0, 0, 0, 0, 0, 1]\n",
      "[0, 0, 0, 0, 0, 1, 1]\n",
      "[0, 0, 0, 1, 1, 0, 1]\n"
     ]
    }
   ],
   "source": [
    "for row in test:\n",
    "    print(row)"
   ]
  },
  {
   "cell_type": "code",
   "execution_count": 84,
   "metadata": {},
   "outputs": [
    {
     "name": "stdout",
     "output_type": "stream",
     "text": [
      "Per zero: 0.02\n",
      "[0, 0, 1, 0, 0, 0, 0]\n",
      "For one elements 0.74\n",
      "[0, 1, 1, 0, 0, 0, 0]\n",
      "For one elements 0.76\n",
      "[1, 0, 1, 1, 0, 0, 0]\n",
      "For one elements 0.78\n",
      "[0, 0, 0, 1, 1, 0, 0]\n",
      "For one elements 0.76\n",
      "[0, 0, 0, 0, 0, 0, 1]\n",
      "For one elements 0.74\n",
      "[0, 0, 0, 0, 0, 1, 1]\n",
      "For one elements 0.76\n",
      "[0, 0, 0, 1, 1, 0, 1]\n",
      "For one elements 0.78\n"
     ]
    }
   ],
   "source": [
    "c = len(test[0])\n",
    "perZero = alpha / c\n",
    "print(\"Per zero:\", perZero)\n",
    "for row in range(len(test)):\n",
    "    print(test[row])\n",
    "    numOfOnes = sum(test[row])\n",
    "    for col in range(len(test[0])):\n",
    "        if test[row][col] == 0:\n",
    "            pass # test[row][col] += alpha/c\n",
    "        else:\n",
    "            pass\n",
    "    \n",
    "    numOfZeros = c - numOfOnes\n",
    "    \n",
    "    print(\"For one elements\", 1 - alpha - numOfZeros*perZero)"
   ]
  }
 ],
 "metadata": {
  "kernelspec": {
   "display_name": "Python 3.10.8 64-bit",
   "language": "python",
   "name": "python3"
  },
  "language_info": {
   "codemirror_mode": {
    "name": "ipython",
    "version": 3
   },
   "file_extension": ".py",
   "mimetype": "text/x-python",
   "name": "python",
   "nbconvert_exporter": "python",
   "pygments_lexer": "ipython3",
   "version": "3.10.8"
  },
  "orig_nbformat": 4,
  "vscode": {
   "interpreter": {
    "hash": "b0fa6594d8f4cbf19f97940f81e996739fb7646882a419484c72d19e05852a7e"
   }
  }
 },
 "nbformat": 4,
 "nbformat_minor": 2
}
